{
 "cells": [
  {
   "cell_type": "code",
   "execution_count": null,
   "id": "6e4dabe3-fabc-4ca3-82cf-0b9b8f5638a4",
   "metadata": {},
   "outputs": [],
   "source": [
    "from train import load_config, train\n",
    "from test import test\n",
    "\n",
    "train_config = load_config('configs/train.yaml')\n",
    "train(train_config)"
   ]
  },
  {
   "cell_type": "code",
   "execution_count": null,
   "id": "fc02dc07-1916-43bd-90d8-38a98e9de566",
   "metadata": {},
   "outputs": [],
   "source": []
  },
  {
   "cell_type": "code",
   "execution_count": null,
   "id": "372f25d7-c3dc-498b-b3a2-2f935da2c353",
   "metadata": {},
   "outputs": [],
   "source": []
  }
 ],
 "metadata": {
  "kernelspec": {
   "display_name": "base",
   "language": "python",
   "name": "base"
  },
  "language_info": {
   "codemirror_mode": {
    "name": "ipython",
    "version": 3
   },
   "file_extension": ".py",
   "mimetype": "text/x-python",
   "name": "python",
   "nbconvert_exporter": "python",
   "pygments_lexer": "ipython3",
   "version": "3.11.6"
  }
 },
 "nbformat": 4,
 "nbformat_minor": 5
}
